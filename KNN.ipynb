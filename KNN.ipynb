{
 "cells": [
  {
   "cell_type": "code",
   "execution_count": 1,
   "metadata": {},
   "outputs": [],
   "source": [
    "import pandas as pd\n",
    "from sklearn.neighbors import KNeighborsClassifier"
   ]
  },
  {
   "cell_type": "code",
   "execution_count": 2,
   "metadata": {},
   "outputs": [],
   "source": [
    "df = pd.read_csv(r'Downloads\\teleCust1000t (1).csv')"
   ]
  },
  {
   "cell_type": "code",
   "execution_count": 4,
   "metadata": {},
   "outputs": [
    {
     "data": {
      "text/html": [
       "<div>\n",
       "<style scoped>\n",
       "    .dataframe tbody tr th:only-of-type {\n",
       "        vertical-align: middle;\n",
       "    }\n",
       "\n",
       "    .dataframe tbody tr th {\n",
       "        vertical-align: top;\n",
       "    }\n",
       "\n",
       "    .dataframe thead th {\n",
       "        text-align: right;\n",
       "    }\n",
       "</style>\n",
       "<table border=\"1\" class=\"dataframe\">\n",
       "  <thead>\n",
       "    <tr style=\"text-align: right;\">\n",
       "      <th></th>\n",
       "      <th>region</th>\n",
       "      <th>tenure</th>\n",
       "      <th>age</th>\n",
       "      <th>marital</th>\n",
       "      <th>address</th>\n",
       "      <th>income</th>\n",
       "      <th>ed</th>\n",
       "      <th>employ</th>\n",
       "      <th>retire</th>\n",
       "      <th>gender</th>\n",
       "      <th>reside</th>\n",
       "      <th>custcat</th>\n",
       "    </tr>\n",
       "  </thead>\n",
       "  <tbody>\n",
       "    <tr>\n",
       "      <th>0</th>\n",
       "      <td>2</td>\n",
       "      <td>13</td>\n",
       "      <td>44</td>\n",
       "      <td>1</td>\n",
       "      <td>9</td>\n",
       "      <td>64.0</td>\n",
       "      <td>4</td>\n",
       "      <td>5</td>\n",
       "      <td>0.0</td>\n",
       "      <td>0</td>\n",
       "      <td>2</td>\n",
       "      <td>1</td>\n",
       "    </tr>\n",
       "    <tr>\n",
       "      <th>1</th>\n",
       "      <td>3</td>\n",
       "      <td>11</td>\n",
       "      <td>33</td>\n",
       "      <td>1</td>\n",
       "      <td>7</td>\n",
       "      <td>136.0</td>\n",
       "      <td>5</td>\n",
       "      <td>5</td>\n",
       "      <td>0.0</td>\n",
       "      <td>0</td>\n",
       "      <td>6</td>\n",
       "      <td>4</td>\n",
       "    </tr>\n",
       "    <tr>\n",
       "      <th>2</th>\n",
       "      <td>3</td>\n",
       "      <td>68</td>\n",
       "      <td>52</td>\n",
       "      <td>1</td>\n",
       "      <td>24</td>\n",
       "      <td>116.0</td>\n",
       "      <td>1</td>\n",
       "      <td>29</td>\n",
       "      <td>0.0</td>\n",
       "      <td>1</td>\n",
       "      <td>2</td>\n",
       "      <td>3</td>\n",
       "    </tr>\n",
       "    <tr>\n",
       "      <th>3</th>\n",
       "      <td>2</td>\n",
       "      <td>33</td>\n",
       "      <td>33</td>\n",
       "      <td>0</td>\n",
       "      <td>12</td>\n",
       "      <td>33.0</td>\n",
       "      <td>2</td>\n",
       "      <td>0</td>\n",
       "      <td>0.0</td>\n",
       "      <td>1</td>\n",
       "      <td>1</td>\n",
       "      <td>1</td>\n",
       "    </tr>\n",
       "    <tr>\n",
       "      <th>4</th>\n",
       "      <td>2</td>\n",
       "      <td>23</td>\n",
       "      <td>30</td>\n",
       "      <td>1</td>\n",
       "      <td>9</td>\n",
       "      <td>30.0</td>\n",
       "      <td>1</td>\n",
       "      <td>2</td>\n",
       "      <td>0.0</td>\n",
       "      <td>0</td>\n",
       "      <td>4</td>\n",
       "      <td>3</td>\n",
       "    </tr>\n",
       "    <tr>\n",
       "      <th>...</th>\n",
       "      <td>...</td>\n",
       "      <td>...</td>\n",
       "      <td>...</td>\n",
       "      <td>...</td>\n",
       "      <td>...</td>\n",
       "      <td>...</td>\n",
       "      <td>...</td>\n",
       "      <td>...</td>\n",
       "      <td>...</td>\n",
       "      <td>...</td>\n",
       "      <td>...</td>\n",
       "      <td>...</td>\n",
       "    </tr>\n",
       "    <tr>\n",
       "      <th>995</th>\n",
       "      <td>3</td>\n",
       "      <td>10</td>\n",
       "      <td>39</td>\n",
       "      <td>0</td>\n",
       "      <td>0</td>\n",
       "      <td>27.0</td>\n",
       "      <td>3</td>\n",
       "      <td>0</td>\n",
       "      <td>0.0</td>\n",
       "      <td>1</td>\n",
       "      <td>3</td>\n",
       "      <td>1</td>\n",
       "    </tr>\n",
       "    <tr>\n",
       "      <th>996</th>\n",
       "      <td>1</td>\n",
       "      <td>7</td>\n",
       "      <td>34</td>\n",
       "      <td>0</td>\n",
       "      <td>2</td>\n",
       "      <td>22.0</td>\n",
       "      <td>5</td>\n",
       "      <td>5</td>\n",
       "      <td>0.0</td>\n",
       "      <td>1</td>\n",
       "      <td>1</td>\n",
       "      <td>1</td>\n",
       "    </tr>\n",
       "    <tr>\n",
       "      <th>997</th>\n",
       "      <td>3</td>\n",
       "      <td>67</td>\n",
       "      <td>59</td>\n",
       "      <td>0</td>\n",
       "      <td>40</td>\n",
       "      <td>944.0</td>\n",
       "      <td>5</td>\n",
       "      <td>33</td>\n",
       "      <td>0.0</td>\n",
       "      <td>1</td>\n",
       "      <td>1</td>\n",
       "      <td>4</td>\n",
       "    </tr>\n",
       "    <tr>\n",
       "      <th>998</th>\n",
       "      <td>3</td>\n",
       "      <td>70</td>\n",
       "      <td>49</td>\n",
       "      <td>0</td>\n",
       "      <td>18</td>\n",
       "      <td>87.0</td>\n",
       "      <td>2</td>\n",
       "      <td>22</td>\n",
       "      <td>0.0</td>\n",
       "      <td>1</td>\n",
       "      <td>1</td>\n",
       "      <td>3</td>\n",
       "    </tr>\n",
       "    <tr>\n",
       "      <th>999</th>\n",
       "      <td>3</td>\n",
       "      <td>50</td>\n",
       "      <td>36</td>\n",
       "      <td>1</td>\n",
       "      <td>7</td>\n",
       "      <td>39.0</td>\n",
       "      <td>3</td>\n",
       "      <td>3</td>\n",
       "      <td>0.0</td>\n",
       "      <td>1</td>\n",
       "      <td>3</td>\n",
       "      <td>2</td>\n",
       "    </tr>\n",
       "  </tbody>\n",
       "</table>\n",
       "<p>1000 rows × 12 columns</p>\n",
       "</div>"
      ],
      "text/plain": [
       "     region  tenure  age  marital  address  income  ed  employ  retire  \\\n",
       "0         2      13   44        1        9    64.0   4       5     0.0   \n",
       "1         3      11   33        1        7   136.0   5       5     0.0   \n",
       "2         3      68   52        1       24   116.0   1      29     0.0   \n",
       "3         2      33   33        0       12    33.0   2       0     0.0   \n",
       "4         2      23   30        1        9    30.0   1       2     0.0   \n",
       "..      ...     ...  ...      ...      ...     ...  ..     ...     ...   \n",
       "995       3      10   39        0        0    27.0   3       0     0.0   \n",
       "996       1       7   34        0        2    22.0   5       5     0.0   \n",
       "997       3      67   59        0       40   944.0   5      33     0.0   \n",
       "998       3      70   49        0       18    87.0   2      22     0.0   \n",
       "999       3      50   36        1        7    39.0   3       3     0.0   \n",
       "\n",
       "     gender  reside  custcat  \n",
       "0         0       2        1  \n",
       "1         0       6        4  \n",
       "2         1       2        3  \n",
       "3         1       1        1  \n",
       "4         0       4        3  \n",
       "..      ...     ...      ...  \n",
       "995       1       3        1  \n",
       "996       1       1        1  \n",
       "997       1       1        4  \n",
       "998       1       1        3  \n",
       "999       1       3        2  \n",
       "\n",
       "[1000 rows x 12 columns]"
      ]
     },
     "execution_count": 4,
     "metadata": {},
     "output_type": "execute_result"
    }
   ],
   "source": [
    "df"
   ]
  },
  {
   "cell_type": "code",
   "execution_count": 5,
   "metadata": {},
   "outputs": [],
   "source": [
    "X = df.drop(['custcat'] , axis = 'columns')"
   ]
  },
  {
   "cell_type": "code",
   "execution_count": 6,
   "metadata": {},
   "outputs": [],
   "source": [
    "y = df['custcat']"
   ]
  },
  {
   "cell_type": "code",
   "execution_count": 9,
   "metadata": {},
   "outputs": [],
   "source": [
    "from sklearn.model_selection import train_test_split\n",
    "x_train , x_test, y_train , y_test = train_test_split(X,y,test_size = 0.2)"
   ]
  },
  {
   "cell_type": "code",
   "execution_count": 12,
   "metadata": {},
   "outputs": [],
   "source": [
    "knn = KNeighborsClassifier(n_neighbors = 4)"
   ]
  },
  {
   "cell_type": "code",
   "execution_count": 13,
   "metadata": {},
   "outputs": [
    {
     "data": {
      "text/plain": [
       "KNeighborsClassifier(n_neighbors=4)"
      ]
     },
     "execution_count": 13,
     "metadata": {},
     "output_type": "execute_result"
    }
   ],
   "source": [
    "knn.fit(x_train , y_train)"
   ]
  },
  {
   "cell_type": "code",
   "execution_count": 14,
   "metadata": {},
   "outputs": [],
   "source": [
    "pred = knn.predict(x_train)"
   ]
  },
  {
   "cell_type": "code",
   "execution_count": 15,
   "metadata": {},
   "outputs": [
    {
     "data": {
      "text/plain": [
       "array([1, 1, 3, 1, 4, 2, 1, 1, 3, 1, 1, 1, 3, 1, 1, 1, 4, 4, 2, 1, 3, 1,\n",
       "       1, 1, 1, 3, 1, 4, 1, 4, 3, 1, 1, 1, 1, 3, 3, 1, 4, 4, 3, 3, 1, 2,\n",
       "       1, 3, 2, 4, 3, 4, 1, 1, 3, 3, 4, 2, 1, 3, 3, 2, 4, 1, 2, 3, 3, 1,\n",
       "       2, 3, 1, 2, 1, 1, 1, 3, 2, 2, 1, 3, 4, 2, 2, 2, 3, 4, 2, 3, 1, 1,\n",
       "       3, 1, 2, 1, 1, 1, 1, 1, 4, 1, 4, 1, 4, 3, 1, 4, 1, 4, 4, 3, 2, 3,\n",
       "       1, 2, 3, 4, 2, 1, 2, 3, 3, 3, 3, 1, 1, 2, 1, 1, 2, 2, 1, 4, 1, 3,\n",
       "       1, 1, 1, 1, 3, 3, 2, 2, 3, 3, 1, 4, 1, 1, 1, 3, 1, 4, 3, 3, 1, 1,\n",
       "       2, 4, 4, 1, 3, 4, 4, 1, 4, 3, 1, 1, 3, 2, 4, 1, 1, 1, 1, 1, 1, 1,\n",
       "       4, 1, 1, 4, 4, 1, 1, 3, 1, 4, 3, 3, 4, 2, 1, 2, 1, 1, 3, 3, 2, 1,\n",
       "       2, 3, 1, 3, 3, 2, 2, 1, 2, 2, 2, 4, 1, 1, 1, 1, 1, 2, 3, 1, 2, 3,\n",
       "       4, 4, 3, 1, 1, 4, 2, 1, 1, 2, 4, 1, 2, 2, 4, 1, 1, 1, 1, 4, 3, 1,\n",
       "       1, 2, 1, 1, 3, 2, 1, 2, 1, 1, 4, 1, 3, 1, 1, 1, 1, 1, 3, 2, 2, 1,\n",
       "       1, 4, 1, 1, 1, 1, 4, 4, 3, 1, 1, 3, 2, 3, 3, 3, 3, 4, 1, 1, 1, 1,\n",
       "       3, 2, 3, 3, 4, 1, 1, 1, 1, 2, 1, 4, 2, 3, 1, 1, 1, 1, 1, 2, 3, 2,\n",
       "       3, 2, 2, 1, 1, 3, 2, 3, 3, 1, 4, 1, 3, 2, 3, 3, 1, 1, 1, 1, 1, 1,\n",
       "       3, 1, 1, 4, 2, 1, 1, 3, 3, 3, 1, 1, 1, 4, 1, 2, 3, 2, 1, 4, 1, 3,\n",
       "       3, 1, 3, 1, 2, 1, 1, 3, 1, 4, 1, 1, 1, 1, 2, 3, 1, 4, 1, 2, 3, 1,\n",
       "       2, 3, 3, 1, 1, 1, 1, 4, 1, 4, 2, 3, 1, 2, 2, 2, 1, 4, 3, 3, 3, 1,\n",
       "       2, 3, 1, 2, 4, 4, 1, 4, 2, 1, 4, 3, 1, 1, 4, 1, 3, 2, 4, 2, 1, 4,\n",
       "       4, 1, 2, 1, 4, 1, 2, 1, 1, 1, 2, 4, 2, 4, 3, 2, 3, 3, 1, 2, 3, 1,\n",
       "       2, 4, 4, 3, 3, 1, 3, 1, 2, 1, 3, 2, 1, 1, 2, 2, 1, 1, 2, 3, 4, 3,\n",
       "       1, 1, 3, 4, 1, 1, 3, 1, 1, 2, 3, 1, 1, 3, 3, 3, 1, 3, 1, 1, 2, 1,\n",
       "       3, 2, 1, 3, 1, 4, 3, 2, 2, 3, 2, 3, 4, 1, 3, 1, 1, 2, 2, 2, 4, 2,\n",
       "       2, 2, 2, 1, 3, 3, 3, 3, 3, 4, 4, 2, 1, 1, 1, 2, 2, 2, 3, 4, 1, 1,\n",
       "       1, 1, 2, 2, 2, 1, 2, 2, 3, 1, 3, 1, 2, 1, 1, 3, 1, 2, 4, 1, 2, 3,\n",
       "       3, 3, 1, 4, 1, 1, 4, 3, 4, 2, 1, 1, 1, 3, 3, 1, 1, 2, 3, 4, 1, 3,\n",
       "       2, 4, 3, 4, 1, 3, 1, 3, 2, 4, 1, 2, 1, 4, 1, 3, 1, 1, 1, 3, 4, 1,\n",
       "       1, 2, 1, 1, 1, 2, 4, 1, 4, 3, 4, 1, 1, 2, 1, 2, 3, 3, 1, 4, 1, 3,\n",
       "       1, 3, 2, 3, 2, 4, 4, 1, 3, 1, 1, 3, 1, 2, 2, 2, 2, 2, 2, 1, 1, 3,\n",
       "       1, 1, 4, 2, 1, 2, 2, 1, 4, 3, 1, 2, 1, 3, 1, 1, 1, 2, 1, 1, 2, 3,\n",
       "       1, 1, 2, 4, 3, 2, 4, 2, 4, 4, 3, 1, 1, 4, 3, 3, 3, 1, 1, 3, 3, 1,\n",
       "       1, 2, 1, 1, 3, 2, 4, 1, 3, 1, 3, 3, 1, 3, 4, 1, 4, 4, 3, 2, 4, 1,\n",
       "       2, 3, 4, 4, 3, 2, 1, 2, 4, 2, 1, 3, 3, 2, 4, 3, 1, 1, 1, 2, 3, 1,\n",
       "       2, 3, 1, 2, 1, 1, 2, 1, 2, 4, 1, 1, 2, 1, 2, 3, 1, 1, 4, 1, 1, 1,\n",
       "       3, 2, 1, 1, 1, 3, 1, 1, 1, 3, 1, 3, 3, 2, 1, 1, 2, 4, 2, 2, 1, 4,\n",
       "       3, 2, 2, 3, 3, 1, 4, 1, 2, 3, 3, 1, 3, 2, 1, 4, 3, 2, 3, 1, 1, 2,\n",
       "       3, 3, 4, 2, 1, 1, 2, 1], dtype=int64)"
      ]
     },
     "execution_count": 15,
     "metadata": {},
     "output_type": "execute_result"
    }
   ],
   "source": [
    "pred"
   ]
  },
  {
   "cell_type": "code",
   "execution_count": 16,
   "metadata": {},
   "outputs": [
    {
     "name": "stdout",
     "output_type": "stream",
     "text": [
      "33333\n"
     ]
    }
   ],
   "source": [
    "print('3' * 5)"
   ]
  },
  {
   "cell_type": "code",
   "execution_count": null,
   "metadata": {},
   "outputs": [],
   "source": []
  }
 ],
 "metadata": {
  "kernelspec": {
   "display_name": "Python 3",
   "language": "python",
   "name": "python3"
  },
  "language_info": {
   "codemirror_mode": {
    "name": "ipython",
    "version": 3
   },
   "file_extension": ".py",
   "mimetype": "text/x-python",
   "name": "python",
   "nbconvert_exporter": "python",
   "pygments_lexer": "ipython3",
   "version": "3.8.5"
  }
 },
 "nbformat": 4,
 "nbformat_minor": 4
}
